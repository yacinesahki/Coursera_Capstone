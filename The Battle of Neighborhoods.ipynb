{
 "cells": [
  {
   "cell_type": "markdown",
   "metadata": {},
   "source": [
    "## The Battle of Neighborhoods \n"
   ]
  },
  {
   "cell_type": "markdown",
   "metadata": {},
   "source": [
    "### New York, NY"
   ]
  },
  {
   "cell_type": "markdown",
   "metadata": {},
   "source": [
    "#### I) Business / Human Problem \n",
    "\n",
    "Description of the problem : \n",
    "\n",
    "According to Brett & Kate McKay (The Art of Manliness, 2008) when we think about crafting our lives, we tend to concentrate on two questions: “What will I do for work?” and “Whom will I marry?” These questions, the what and who questions, are certainly important. In fact, the answers to those questions constitute the two greatest determinants of our happiness.\n",
    "\n",
    "But happiness is in fact a three legged stool, with the where question forming the third leg. This makes a great deal of sense: where we live will influence all of the other elements in our life, not just what we do and whom we marry, but the hobbies we pursue, the friends we make, the skills we learn, and how our children grow up.\n",
    "\n",
    "For many men, where they end up is a matter of happenstance; they never leave their hometown; they take a job in a new city and settle down there; they move to follow a girlfriend and decide to stay after the break-up. But because the place we live can affect our lives in so many ways, it ought to be a decision we approach deliberately and thoughtfully. \n",
    "\n",
    "This is the story of one of my friends, Chacha, from his diminutive, who wants to settle with his boyfriend in America to start a new life (She actually lives in France). She loves America and dreams of living there especially in New York, Miami or Los Angeles. \n",
    "\n",
    "In general, people in the same situation as Chacha tend to analyze and explore different locations before deciding to move to another country, state or city. There are many factors that people need to consider when deciding to move to a new location like the cost of living, weather conditions, proximity to Family and Friends, Environment for Child Rearing and so on...  \n",
    "\n",
    "Chacha and his boyfriend have already thought a lot about what city they would like to live in and they choose New York for many reasons like convenience, diversity, job opportunity, transportation... \n",
    "\n",
    "So, it will be New York City ! but it remains to know which is the best borough and the best neighborhood in which Chacha and his boyfriend will settle ?\n",
    "\n",
    "There are four criteria that are important to them and that will allow them to choose the place in which they will settle in New York as follows : \n",
    "\n",
    "1. The cost of living (essentially average apartment rent in Manhattan & Brooklyn)\n",
    "2. The job opportunity** (essentially presence of many large companies) \n",
    "3. Neighborhood diversity  (essentially about people) \n",
    "4. Attractivity of the neighborhood (top  venues analysis) \n",
    "\n",
    "** Chacha is Marketing Manager in a French multinational corporation and his boyfriend work as a Data Scientist in a consulting firm. Ideally they would like to find the same job in New York.\n",
    "\n",
    "The main objective of this project is to help Chacha, his boyfriend and people in the same situation as them to choose the best location to live in New York in accordance with the criteria mentioned above.  \n",
    "\n",
    "##### Informal definition of the problem to be solved : \n",
    "\n",
    "What is the best place to live in New York based on the four criteria mentioned above ? \n",
    "\n",
    "To find an answer to the problem, we will use data and tools to extract knowledge and make recommendations to Chacha and others in the same situation as her.\n"
   ]
  },
  {
   "cell_type": "markdown",
   "metadata": {},
   "source": [
    "#### II) Analytic Approach \n",
    "\n",
    "In order to answer to the question asked, we are going to use Machine Learning. \n",
    "First of all, we need to identify the problem of machine learning that we face. \n",
    "\n",
    "Since we do not know the output (y) and we do not have historical data on what we would like to know, we can not train a supervised algorithm to make predictions (regression or classification). In conclusion, we are faced with an unsupervised learning problem. \n",
    "\n",
    "We will therefore use unsupervised learning on data that does not have history for y output. It is up to the machine to find the intrinsic structures in the data.\n",
    "\n",
    "For this project, we will use K-means Clustering, an unsupervised machine learning algorithm to segment and cluster the different neighborhoods of New York. Thanks to our analysis and exploration, we will have better understanding of the similarities and dissimilarities between neighborhood in NYC. The results of this project will allow us to guide the choice of Chacha and other people on the best place to live in NYC.\n",
    "\n",
    "##### In Summary : \n",
    "\n",
    "- Machine Learning problem : Unsupervised Learning \n",
    "- Choice of Unsupervised Learning : K-Means Clustering \n",
    "- Expected results after this project : The best location to live in NYC. "
   ]
  },
  {
   "cell_type": "markdown",
   "metadata": {},
   "source": [
    "#### III) Data Requirements \n",
    "\n",
    "##### In this step, we are looking to identify the data needed for this project. \n",
    "\n",
    "For a supervised learning problem, we need data about what we are trying to predict (y), named the response variable (or variable to explain or dependent variable) and we need data about the explanatory variables or independent variables. \n",
    "\n",
    "As we face an unsupervised learning problem, the data requirements are different (the response variable is not known). \n",
    "\n",
    "Nevertheless, we still have to identify the independent variables x1, x2 ..., xn to feed and train the model. In view of the problem we are trying to solve and the four criteria discussed in the first step, the necessary data that we would need for this project are:\n",
    "\n",
    "- Data about Borough and Neighborhood in New York city \n",
    "- Data about the location information (Latitude and Longitude of Borough and Neighborhood in NYC)\n",
    "- Data about average apartment rent by Neighborhood\n",
    "- Data about New York companies\n",
    " \n",
    "Finally, we will also use NYC geographic coordinates data as input data for the Foursquare API, which will be used to provide information on the top venues in each NYC neighborhood.\n",
    "\n"
   ]
  },
  {
   "cell_type": "markdown",
   "metadata": {},
   "source": [
    "#### IV) Data Collection \n",
    "\n",
    "The last step allowed us to identify the data requirements for this project. \n",
    "\n",
    "In this step, we are going to collect the data needed. For this we have to find Where is the data that we would like to collect.  \n",
    "\n",
    "##### 1) Data about Borough, Neighborhood, location information in NYC : \n",
    "\n",
    "Neighborhood has a total of 5 boroughs and 306 neighborhoods \n",
    "\n",
    "Data Source : This dataset is available on the web in the following link : \n",
    "\n",
    "https://geo.nyu.edu/catalog/nyu_2451_34572\n",
    "\n",
    "##### 2) Data about average apartment rent by Neighborhood : \n",
    "\n",
    "NYC Average Neighborhood Rents in June 2018 for two boroughs and their respective neighborhoods : Manhattan & Brooklyn. \n",
    "\n",
    "Data Source : This dataset is also available on the web, but in contrary of the Data about NYC Neighborhood, we will have to use web scraping to collect this data :\n",
    "\n",
    "https://www.cityrealty.com/nyc/market-insight/features/get-to-know/nyc-average-neighborhood-rents-june-2018/18584\n",
    "\n",
    "##### 3) Data about New York Companies : \n",
    "\n",
    "List of companies based in New York city. The table contains two columns (first one for the name of the company and the second one for the industry). We also have to collect adresses or geographic coordinates of these companies to have total information about NYC companies. \n",
    "\n",
    "Data Source : The Data needed about New York companies is available on Wikipedia on the following link : https://en.wikipedia.org/wiki/List_of_companies_based_in_New_York_City\n",
    "\n",
    "Once again, to collect this dataset, we will use web scraping. "
   ]
  },
  {
   "cell_type": "markdown",
   "metadata": {},
   "source": [
    "#### V) Data Understanding, Preparation and Exploration "
   ]
  },
  {
   "cell_type": "markdown",
   "metadata": {},
   "source": [
    "#### VI) Modeling the problem to be solved"
   ]
  },
  {
   "cell_type": "markdown",
   "metadata": {},
   "source": [
    "#### VII) Analysis of Results, Report and Conclusion"
   ]
  },
  {
   "cell_type": "code",
   "execution_count": null,
   "metadata": {},
   "outputs": [],
   "source": []
  }
 ],
 "metadata": {
  "kernelspec": {
   "display_name": "Python 3",
   "language": "python",
   "name": "python3"
  },
  "language_info": {
   "codemirror_mode": {
    "name": "ipython",
    "version": 3
   },
   "file_extension": ".py",
   "mimetype": "text/x-python",
   "name": "python",
   "nbconvert_exporter": "python",
   "pygments_lexer": "ipython3",
   "version": "3.6.5"
  }
 },
 "nbformat": 4,
 "nbformat_minor": 2
}
